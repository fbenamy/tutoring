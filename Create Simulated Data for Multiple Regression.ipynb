{
 "cells": [
  {
   "cell_type": "markdown",
   "id": "1f49df66",
   "metadata": {},
   "source": [
    "# Setup"
   ]
  },
  {
   "cell_type": "code",
   "execution_count": 50,
   "id": "7524851e",
   "metadata": {},
   "outputs": [],
   "source": [
    "# third party packages\n",
    "import numpy as np "
   ]
  },
  {
   "cell_type": "code",
   "execution_count": 51,
   "id": "e0fe9869",
   "metadata": {},
   "outputs": [
    {
     "data": {
      "text/plain": [
       "'1.20.3'"
      ]
     },
     "execution_count": 51,
     "metadata": {},
     "output_type": "execute_result"
    }
   ],
   "source": [
    "np.__version__"
   ]
  },
  {
   "cell_type": "markdown",
   "id": "dadb9029",
   "metadata": {},
   "source": [
    "# Explanation \n",
    "It can be effective to show how the change in a single variable changes the prediction of a model. In multiple regression it is necessary to hold all other variables constant in order to show the impact of a single variable. \n",
    "\n",
    "This can be expressed as \"All things the same, . . . \" in plain english"
   ]
  },
  {
   "cell_type": "markdown",
   "id": "0304ba54",
   "metadata": {},
   "source": [
    "# Tutorial"
   ]
  },
  {
   "cell_type": "markdown",
   "id": "8f41ea47",
   "metadata": {},
   "source": [
    "## Create a range of the values for your target variable"
   ]
  },
  {
   "cell_type": "code",
   "execution_count": 41,
   "id": "71a52403",
   "metadata": {},
   "outputs": [],
   "source": [
    "# np.arange is inclusive of the lowest value\n",
    "# so the lowest value you want in your simulated range in your lower bound\n",
    "lowest_value = 0\n",
    "lower_bound = lowest_value"
   ]
  },
  {
   "cell_type": "code",
   "execution_count": 42,
   "id": "1a4ee51c",
   "metadata": {},
   "outputs": [],
   "source": [
    "# np.arange is exclusive of the highest value, \n",
    "# so your want your upper bound to be one spacing interval(or less) higher \n",
    "# than highest value you want in your simulated range\n",
    "highest_value = 10\n",
    "spacing_interval = 1\n",
    "upper_bound = highest_value + spacing_interval"
   ]
  },
  {
   "cell_type": "code",
   "execution_count": 43,
   "id": "e4215dbe",
   "metadata": {},
   "outputs": [
    {
     "data": {
      "text/plain": [
       "array([ 0,  1,  2,  3,  4,  5,  6,  7,  8,  9, 10])"
      ]
     },
     "execution_count": 43,
     "metadata": {},
     "output_type": "execute_result"
    }
   ],
   "source": [
    "#create the vector of simulated data for your target variable\n",
    "target_variable_vector = np.arange(lower_bound, upper_bound, spacing_interval)\n",
    "\n",
    "target_variable_vector"
   ]
  },
  {
   "cell_type": "markdown",
   "id": "39c93866",
   "metadata": {},
   "source": [
    "## Create a vector (or vectors) of equal length for the other variables in your model"
   ]
  },
  {
   "cell_type": "code",
   "execution_count": 52,
   "id": "1097fa63",
   "metadata": {},
   "outputs": [
    {
     "data": {
      "text/plain": [
       "array([2, 2, 2, 2, 2, 2, 2, 2, 2, 2, 2])"
      ]
     },
     "execution_count": 52,
     "metadata": {},
     "output_type": "execute_result"
    }
   ],
   "source": [
    "# get the length of the range of values for your target variable vector\n",
    "n = len(target_variable_vector)\n",
    "\n",
    "# the other variables are being held constant\n",
    "# so the entire vector will be the same value for all data points\n",
    "other_variable_value = 2\n",
    "other_variable_vector = np.repeat(other_variable_value, n)\n",
    "\n",
    "other_variable_vector"
   ]
  },
  {
   "cell_type": "markdown",
   "id": "710ad07e",
   "metadata": {},
   "source": [
    "## Combine them together in a matrix and feed it to the predict function of your model"
   ]
  },
  {
   "cell_type": "code",
   "execution_count": 46,
   "id": "4008038c",
   "metadata": {},
   "outputs": [
    {
     "data": {
      "text/plain": [
       "array([[ 0,  2],\n",
       "       [ 1,  2],\n",
       "       [ 2,  2],\n",
       "       [ 3,  2],\n",
       "       [ 4,  2],\n",
       "       [ 5,  2],\n",
       "       [ 6,  2],\n",
       "       [ 7,  2],\n",
       "       [ 8,  2],\n",
       "       [ 9,  2],\n",
       "       [10,  2]])"
      ]
     },
     "execution_count": 46,
     "metadata": {},
     "output_type": "execute_result"
    }
   ],
   "source": [
    "simulated_data_matrix = np.column_stack((target_variable_vector, other_variable_vector))\n",
    "\n",
    "simulated_data_matrix"
   ]
  },
  {
   "cell_type": "markdown",
   "id": "92e3620e",
   "metadata": {},
   "source": [
    "# Links to Functions Used:\n",
    "- np.arange()\n",
    "    - https://numpy.org/doc/stable/reference/generated/numpy.arange.html\n",
    "    \n",
    "- np.repeat()\n",
    "    - https://numpy.org/doc/stable/reference/generated/numpy.repeat.html\n",
    "    \n",
    "- np.column_stack()\n",
    "    - https://numpy.org/doc/stable/reference/generated/numpy.column_stack.html"
   ]
  }
 ],
 "metadata": {
  "kernelspec": {
   "display_name": "Python 3 (ipykernel)",
   "language": "python",
   "name": "python3"
  },
  "language_info": {
   "codemirror_mode": {
    "name": "ipython",
    "version": 3
   },
   "file_extension": ".py",
   "mimetype": "text/x-python",
   "name": "python",
   "nbconvert_exporter": "python",
   "pygments_lexer": "ipython3",
   "version": "3.7.11"
  }
 },
 "nbformat": 4,
 "nbformat_minor": 5
}
